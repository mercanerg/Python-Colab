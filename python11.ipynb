{
  "nbformat": 4,
  "nbformat_minor": 0,
  "metadata": {
    "colab": {
      "name": "python11.ipynb",
      "provenance": [],
      "collapsed_sections": []
    },
    "kernelspec": {
      "name": "python3",
      "display_name": "Python 3"
    },
    "language_info": {
      "name": "python"
    }
  },
  "cells": [
    {
      "cell_type": "code",
      "source": [
        "def college_year():\n",
        "    \"\"\" The enumerate() method adds a counter to \n",
        "         an iterable and returns it (the enumerate object)\n",
        "         enumerate(iterable, start=0) \"\"\"\n",
        "    college_years = ['Freshman', 'Sophomore', 'Junior', 'Senior']\n",
        "    return list(enumerate(college_years, 2019))\n",
        "college_year()\n",
        "print(help(college_year))\n",
        "# help(enumerate)"
      ],
      "metadata": {
        "colab": {
          "base_uri": "https://localhost:8080/"
        },
        "id": "HoswEOBCsguv",
        "outputId": "9ef7a791-348e-4448-d050-8e8011a636a0"
      },
      "execution_count": null,
      "outputs": [
        {
          "output_type": "stream",
          "name": "stdout",
          "text": [
            "Help on function college_year in module __main__:\n",
            "\n",
            "college_year()\n",
            "    The enumerate() method adds a counter to \n",
            "    an iterable and returns it (the enumerate object)\n",
            "    enumerate(iterable, start=0)\n",
            "\n",
            "None\n"
          ]
        }
      ]
    },
    {
      "cell_type": "code",
      "source": [
        "dict_demo = dict()\n",
        "print(dict_demo[3])"
      ],
      "metadata": {
        "colab": {
          "base_uri": "https://localhost:8080/",
          "height": 188
        },
        "id": "vw7sCFEVxABg",
        "outputId": "37c81e4c-9271-493d-e6b8-5cd1df460c29"
      },
      "execution_count": null,
      "outputs": [
        {
          "output_type": "error",
          "ename": "KeyError",
          "evalue": "ignored",
          "traceback": [
            "\u001b[0;31m---------------------------------------------------------------------------\u001b[0m",
            "\u001b[0;31mKeyError\u001b[0m                                  Traceback (most recent call last)",
            "\u001b[0;32m<ipython-input-12-c644e3f5f5af>\u001b[0m in \u001b[0;36m<module>\u001b[0;34m()\u001b[0m\n\u001b[1;32m      1\u001b[0m \u001b[0mdict_demo\u001b[0m \u001b[0;34m=\u001b[0m \u001b[0mdict\u001b[0m\u001b[0;34m(\u001b[0m\u001b[0;34m)\u001b[0m\u001b[0;34m\u001b[0m\u001b[0;34m\u001b[0m\u001b[0m\n\u001b[0;32m----> 2\u001b[0;31m \u001b[0mprint\u001b[0m\u001b[0;34m(\u001b[0m\u001b[0mdict_demo\u001b[0m\u001b[0;34m[\u001b[0m\u001b[0;36m3\u001b[0m\u001b[0;34m]\u001b[0m\u001b[0;34m)\u001b[0m\u001b[0;34m\u001b[0m\u001b[0;34m\u001b[0m\u001b[0m\n\u001b[0m",
            "\u001b[0;31mKeyError\u001b[0m: 3"
          ]
        }
      ]
    },
    {
      "cell_type": "code",
      "source": [
        "from collections import defaultdict\n",
        "\n",
        "defaultdict_demo = defaultdict(int)\n",
        "defaultdict_demo[2]"
      ],
      "metadata": {
        "colab": {
          "base_uri": "https://localhost:8080/"
        },
        "id": "ENceEusXyU0D",
        "outputId": "5adef162-8d8c-4b6b-e81c-d32252d8e881"
      },
      "execution_count": null,
      "outputs": [
        {
          "output_type": "execute_result",
          "data": {
            "text/plain": [
              "0"
            ]
          },
          "metadata": {},
          "execution_count": 25
        }
      ]
    },
    {
      "cell_type": "code",
      "source": [
        "from collections import defaultdict\n",
        "\n",
        "defaultdict_demo = defaultdict(list)\n",
        "\n",
        "defaultdict_demo['one'].append(1)\n",
        "defaultdict_demo['two'].append(2)\n",
        "defaultdict_demo['one'].append('1')\n",
        "defaultdict_demo['three']\n",
        "\n",
        "print(dict(defaultdict_demo.items()))"
      ],
      "metadata": {
        "colab": {
          "base_uri": "https://localhost:8080/"
        },
        "id": "v0yHWFSNzRQZ",
        "outputId": "19b7842c-1968-4712-d669-e7e5c50f6cd5"
      },
      "execution_count": null,
      "outputs": [
        {
          "output_type": "stream",
          "name": "stdout",
          "text": [
            "{'one': [1, '1'], 'two': [2], 'three': []}\n"
          ]
        }
      ]
    },
    {
      "cell_type": "code",
      "source": [
        "from collections import defaultdict\n",
        "\n",
        "defaultdict_demo = defaultdict(set)\n",
        "\n",
        "defaultdict_demo['one'].add(1)\n",
        "defaultdict_demo['two'].add(2)\n",
        "defaultdict_demo['one'].add('1')\n",
        "defaultdict_demo['three']\n",
        "\n",
        "print(dict(defaultdict_demo.items()))\n",
        "defaultdict_demo['three']"
      ],
      "metadata": {
        "colab": {
          "base_uri": "https://localhost:8080/"
        },
        "id": "C4-h-mcjxC7x",
        "outputId": "c073300d-f0eb-4069-8424-1c6cbe456585"
      },
      "execution_count": null,
      "outputs": [
        {
          "output_type": "stream",
          "name": "stdout",
          "text": [
            "{'one': {1, '1'}, 'two': {2}, 'three': set()}\n"
          ]
        },
        {
          "output_type": "execute_result",
          "data": {
            "text/plain": [
              "set()"
            ]
          },
          "metadata": {},
          "execution_count": 23
        }
      ]
    },
    {
      "cell_type": "code",
      "source": [
        "from collections import defaultdict\n",
        "name = ['John', 'Tom', 'Jacob']\n",
        "salary = [3000, 4000]\n",
        "employee = defaultdict(set)\n",
        "counter = 0\n",
        "for n in name:\n",
        "    if counter<len(salary): employee[n].add(salary[counter])\n",
        "    else: employee[n]\n",
        "    counter += 1\n",
        "\n",
        "employee"
      ],
      "metadata": {
        "colab": {
          "base_uri": "https://localhost:8080/"
        },
        "id": "wCDDrsPJzWSl",
        "outputId": "eeae307c-562b-4aa5-aeb4-a042a42ed995"
      },
      "execution_count": null,
      "outputs": [
        {
          "output_type": "execute_result",
          "data": {
            "text/plain": [
              "defaultdict(set, {'Jacob': set(), 'John': {3000}, 'Tom': {4000}})"
            ]
          },
          "metadata": {},
          "execution_count": 42
        }
      ]
    },
    {
      "cell_type": "code",
      "source": [
        "fruit = ['Apple', 'Orange', 'Banana', 'Apricot', 'Cherry']\n",
        "print('ID     Fruit')\n",
        "print('--------------')\n",
        "for f in range(len(fruit)): \n",
        "    tasty = list(enumerate(fruit, 1000))\n",
        "    print(f\"{tasty[f][0]} - {tasty[f][1]}\")"
      ],
      "metadata": {
        "colab": {
          "base_uri": "https://localhost:8080/"
        },
        "id": "mDVVfFH-9cGj",
        "outputId": "74927c2f-e474-4dbd-b563-759dda588272"
      },
      "execution_count": null,
      "outputs": [
        {
          "output_type": "stream",
          "name": "stdout",
          "text": [
            "ID     Fruit\n",
            "--------------\n",
            "1000 - Apple\n",
            "1001 - Orange\n",
            "1002 - Banana\n",
            "1003 - Apricot\n",
            "1004 - Cherry\n"
          ]
        }
      ]
    },
    {
      "cell_type": "code",
      "source": [
        "def sum(a, b):\n",
        "    \"\"\"\n",
        "    >>> sum(4, 3)\n",
        "    7\n",
        "    >>> sum(-4, 5)\n",
        "    1\n",
        "    \"\"\"\n",
        "    return a + b\n",
        "help(sum)"
      ],
      "metadata": {
        "colab": {
          "base_uri": "https://localhost:8080/"
        },
        "id": "1Yz9pQQh4A_1",
        "outputId": "e6a79667-db1a-498a-e640-8582157d77be"
      },
      "execution_count": null,
      "outputs": [
        {
          "output_type": "stream",
          "name": "stdout",
          "text": [
            "Help on function sum in module __main__:\n",
            "\n",
            "sum(a, b)\n",
            "    >>> sum(4, 3)\n",
            "    7\n",
            "    >>> sum(-4, 5)\n",
            "    1\n",
            "\n"
          ]
        }
      ]
    },
    {
      "cell_type": "code",
      "source": [
        "fruits = ['apples', 'oranges', 'bananas']\n",
        "quantities = [5, 3, 4]\n",
        "prices = [1.50, 2.25, 0.89]\n",
        "# Desired output  [('Apples', 5, 1.50), ('Oranges', 3, 2.25), ('Bananas', 4, 0.89)]\n",
        "groceries = zip(fruits, quantities, prices)\n",
        "list(groceries)"
      ],
      "metadata": {
        "id": "qrT4WEvg8G0P",
        "colab": {
          "base_uri": "https://localhost:8080/"
        },
        "outputId": "2c3b0e8d-808b-41ab-b1fd-8c309d36e978"
      },
      "execution_count": null,
      "outputs": [
        {
          "output_type": "execute_result",
          "data": {
            "text/plain": [
              "[('apples', 5, 1.5), ('oranges', 3, 2.25), ('bananas', 4, 0.89)]"
            ]
          },
          "metadata": {},
          "execution_count": 2
        }
      ]
    },
    {
      "cell_type": "code",
      "source": [
        "fruit = ['Apple', 'Orange', 'Banana', 'Apricot', 'Cherry']\n",
        "animal = []\n",
        "print(any(fruit))\n",
        "print(any(animal))\n",
        "print(all(fruit))\n",
        "print(all(animal))"
      ],
      "metadata": {
        "colab": {
          "base_uri": "https://localhost:8080/"
        },
        "id": "DnCNMq6kL_nk",
        "outputId": "eb09349b-1110-406e-b0cf-3ea8cd5f8b7f"
      },
      "execution_count": null,
      "outputs": [
        {
          "output_type": "stream",
          "name": "stdout",
          "text": [
            "True\n",
            "False\n",
            "True\n",
            "True\n"
          ]
        }
      ]
    },
    {
      "cell_type": "code",
      "source": [
        "count, fruit, price = (2, 'apple', 3.5)\n",
        "print(count, fruit, price)"
      ],
      "metadata": {
        "colab": {
          "base_uri": "https://localhost:8080/"
        },
        "id": "gudAqJXwM_LW",
        "outputId": "95127b33-f28e-4c2d-d3ee-4ee5f15a1822"
      },
      "execution_count": null,
      "outputs": [
        {
          "output_type": "stream",
          "name": "stdout",
          "text": [
            "2 apple 3.5\n"
          ]
        }
      ]
    },
    {
      "cell_type": "code",
      "source": [
        "num_people = 5\n",
        "if num_people > 10:\n",
        "    print(\"There is a lot of people in the pool.\")\n",
        "elif num_people > 4:\n",
        "    print(\"There are some people in the pool.\")\n",
        "elif num_people > 0:\n",
        "    print(\"There are a few people in the pool.\")\n",
        "else:\n",
        "    print(\"There is no one in the pool.\")"
      ],
      "metadata": {
        "colab": {
          "base_uri": "https://localhost:8080/"
        },
        "id": "_ijFiHMrPC9R",
        "outputId": "2c68933e-48df-42b9-c6cd-bbdf2e2bf33c"
      },
      "execution_count": null,
      "outputs": [
        {
          "output_type": "stream",
          "name": "stdout",
          "text": [
            "There are some people in the pool.\n"
          ]
        }
      ]
    },
    {
      "cell_type": "code",
      "source": [
        "numbers = [2, 4, 6, 8, 10]\n",
        "# returns square of a number\n",
        "def square(number):\n",
        "  return number * number\n",
        "# apply square() function to each item of the numbers list\n",
        "squared_numbers_iterator = map(square, numbers)\n",
        "# converting to list\n",
        "squared_numbers = list(squared_numbers_iterator)\n",
        "print(squared_numbers)\n",
        "# Output: [4, 16, 36, 64, 100]"
      ],
      "metadata": {
        "colab": {
          "base_uri": "https://localhost:8080/"
        },
        "id": "OFlUP4Q3PzNL",
        "outputId": "5d12bb64-9db8-4a2d-a3d6-b32ce7e9ea28"
      },
      "execution_count": null,
      "outputs": [
        {
          "output_type": "stream",
          "name": "stdout",
          "text": [
            "[4, 16, 36, 64, 100]\n"
          ]
        }
      ]
    },
    {
      "cell_type": "code",
      "source": [
        "def print_alpha_nums(abc_list, num_list):\n",
        "    for char in abc_list:\n",
        "        for num in num_list:\n",
        "            print(char, num)\n",
        "    return\n",
        "\n",
        "print_alpha_nums(['a', 'b', 'c'], [1, 2, 3])"
      ],
      "metadata": {
        "colab": {
          "base_uri": "https://localhost:8080/"
        },
        "id": "XefICnVIKj8S",
        "outputId": "d1b23607-44d5-447b-c118-8fba7e3e2e96"
      },
      "execution_count": null,
      "outputs": [
        {
          "output_type": "stream",
          "name": "stdout",
          "text": [
            "a 1\n",
            "a 2\n",
            "a 3\n",
            "b 1\n",
            "b 2\n",
            "b 3\n",
            "c 1\n",
            "c 2\n",
            "c 3\n"
          ]
        }
      ]
    },
    {
      "cell_type": "code",
      "source": [
        "def sum(a, b):\n",
        "          \"\"\"\n",
        "          >>> a = 1\n",
        "          >>> b = 2\n",
        "          >>> sum(a, b)\n",
        "          3\n",
        "          \"\"\"\n",
        "          return a + b\n",
        "help(sum)"
      ],
      "metadata": {
        "colab": {
          "base_uri": "https://localhost:8080/"
        },
        "id": "U7p6U66vK8Gv",
        "outputId": "c51a5cfb-62fa-47ae-cfd4-6604ec190949"
      },
      "execution_count": null,
      "outputs": [
        {
          "output_type": "stream",
          "name": "stdout",
          "text": [
            "Help on function sum in module __main__:\n",
            "\n",
            "sum(a, b)\n",
            "    >>> a = 1\n",
            "    >>> b = 2\n",
            "    >>> sum(a, b)\n",
            "    3\n",
            "\n"
          ]
        }
      ]
    },
    {
      "cell_type": "code",
      "source": [
        "fruit_info = { 'fruit': 'apple', 'count': 2, 'price': 3.5 }\n",
        "fruit_info ['price'] = 1.5\n",
        "fruit_info"
      ],
      "metadata": {
        "colab": {
          "base_uri": "https://localhost:8080/"
        },
        "id": "XuFHiDh3bvWu",
        "outputId": "4176170f-5267-474f-a13b-0a1cd475f314"
      },
      "execution_count": null,
      "outputs": [
        {
          "output_type": "execute_result",
          "data": {
            "text/plain": [
              "{'count': 2, 'fruit': 'apple', 'price': 1.5}"
            ]
          },
          "metadata": {},
          "execution_count": 2
        }
      ]
    },
    {
      "cell_type": "code",
      "source": [
        "fruits = {'Apples': 5, 'Oranges': 3, 'Bananas': 4}\n",
        "fruit_names = [x for x in fruits.keys()]\n",
        "fruit_names"
      ],
      "metadata": {
        "colab": {
          "base_uri": "https://localhost:8080/"
        },
        "id": "KmlrLGAocUxl",
        "outputId": "3dcafcb4-09a7-4f44-e80c-18aaac5016b3"
      },
      "execution_count": null,
      "outputs": [
        {
          "output_type": "execute_result",
          "data": {
            "text/plain": [
              "['Apples', 'Oranges', 'Bananas']"
            ]
          },
          "metadata": {},
          "execution_count": 2
        }
      ]
    }
  ]
}