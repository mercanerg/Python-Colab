{
  "nbformat": 4,
  "nbformat_minor": 0,
  "metadata": {
    "colab": {
      "name": "Mart21.ipynb",
      "provenance": []
    },
    "kernelspec": {
      "name": "python3",
      "display_name": "Python 3"
    },
    "language_info": {
      "name": "python"
    }
  },
  "cells": [
    {
      "cell_type": "code",
      "source": [
        "import sys\n",
        "import random\n",
        "from termcolor import colored, cprint\n",
        "\n",
        "def textcolor(t):\n",
        "     str_txt = str(t)\n",
        "     textcol(str_txt)\n",
        "\n",
        "def textstyle(text, color = 'red'):\n",
        "    txt = colored(text, color, attrs=['reverse', 'blink'])\n",
        "    print(txt)\n",
        "\n",
        "def textcol(txt):\n",
        "    col = random.randint(30, 38)\n",
        "    text = '\\033[1;' + str(col) + 'm' + txt\n",
        "    print(text)"
      ],
      "metadata": {
        "id": "VJJ6mRNLyQlX"
      },
      "execution_count": 89,
      "outputs": []
    },
    {
      "cell_type": "code",
      "execution_count": 10,
      "metadata": {
        "colab": {
          "base_uri": "https://localhost:8080/"
        },
        "id": "rzZ-TWc7qmH7",
        "outputId": "c07bfe91-3dce-4fd2-8af6-34f14cf5e666"
      },
      "outputs": [
        {
          "output_type": "stream",
          "name": "stdout",
          "text": [
            "['a', 'e', 'i']\n",
            "['a', 'e', 'i']\n"
          ]
        }
      ],
      "source": [
        "\n",
        "vowel_list = ['a', 'e', 'i', 'o', 'u']\n",
        "first_ten = ['a', 'b', 'c', 'd', 'e', 'f', 'g', 'h', 'i', 'j']\n",
        "\n",
        "funct = lambda v : True if v in vowel_list else False\n",
        "vows = filter(lambda x: x[0] in vowel_list, first_ten)\n",
        "vowels = filter(funct, first_ten)\n",
        "print(list(vowels))\n",
        "print(list(vows))"
      ]
    },
    {
      "cell_type": "code",
      "source": [
        "def modular_funct(n):\n",
        "    return lambda x: x ** n\n",
        "\n",
        "power_of_2 = modular_funct(2)\n",
        "power_of_3 = modular_funct(3)\n",
        "power_of_4 = modular_funct(4)\n",
        "\n",
        "power_of_4(2)"
      ],
      "metadata": {
        "colab": {
          "base_uri": "https://localhost:8080/"
        },
        "id": "x1p8CF4XuUhP",
        "outputId": "c645581e-70c8-4b49-e49a-1380d22d60b6"
      },
      "execution_count": 7,
      "outputs": [
        {
          "output_type": "execute_result",
          "data": {
            "text/plain": [
              "16"
            ]
          },
          "metadata": {},
          "execution_count": 7
        }
      ]
    },
    {
      "cell_type": "code",
      "source": [
        "def repeater(n):\n",
        "    return lambda x : print(x*n)\n",
        "\n",
        "repeater2 = repeater(2)\n",
        "repeater3 = repeater(3)\n",
        "\n",
        "repeater3('alex')\n"
      ],
      "metadata": {
        "colab": {
          "base_uri": "https://localhost:8080/"
        },
        "id": "1vxoZx1mwTSl",
        "outputId": "e4e187b2-5dab-43b4-be71-28b59b125bf5"
      },
      "execution_count": 13,
      "outputs": [
        {
          "output_type": "stream",
          "name": "stdout",
          "text": [
            "alexalexalex\n"
          ]
        }
      ]
    },
    {
      "cell_type": "code",
      "source": [
        "def emoji(n):\n",
        "    return lambda x : textstyle(x + n, 'red')\n",
        "\n",
        "smile = emoji(':)')\n",
        "\n",
        "smile('ALEX')"
      ],
      "metadata": {
        "colab": {
          "base_uri": "https://localhost:8080/"
        },
        "id": "io8fS9q9xX6O",
        "outputId": "7106447b-bdcb-4a49-8874-9a9e1737766c"
      },
      "execution_count": 34,
      "outputs": [
        {
          "output_type": "stream",
          "name": "stdout",
          "text": [
            "\u001b[5m\u001b[7m\u001b[31mALEX:)\u001b[0m\n"
          ]
        }
      ]
    },
    {
      "cell_type": "code",
      "source": [
        "num = [4, 4, 4]\n",
        "num.count(1)\n",
        "max(num, key = num.count)\n",
        "repeat_num = num.count(max(num, key = num.count))\n",
        "textcolor(repeat_num)\n",
        "textstyle(repeat_num, 'blue')"
      ],
      "metadata": {
        "colab": {
          "base_uri": "https://localhost:8080/"
        },
        "id": "PX5i1B9i3Z4E",
        "outputId": "d097295c-82b8-481d-b80b-b7d539fd6a4c"
      },
      "execution_count": 100,
      "outputs": [
        {
          "output_type": "stream",
          "name": "stdout",
          "text": [
            "\u001b[1;31m3\n",
            "\n",
            "\u001b[5m\u001b[7m\u001b[34m3\u001b[0m\n"
          ]
        }
      ]
    },
    {
      "cell_type": "code",
      "source": [
        "equallambda =lambda *x : list(x).count(max(list(x), key = list(x).count))\\\n",
        "if list(x).count(max(list(x) , key = list(x).count)) > 1 else 0 \n",
        "equallambda(1,2 ,3 ,4, 5, 2, 5, 3, 2, 8)"
      ],
      "metadata": {
        "colab": {
          "base_uri": "https://localhost:8080/"
        },
        "id": "BqpyvEIJJ8FE",
        "outputId": "c51d98ee-03e1-456a-ad2b-bb870d25dd85"
      },
      "execution_count": 102,
      "outputs": [
        {
          "output_type": "execute_result",
          "data": {
            "text/plain": [
              "3"
            ]
          },
          "metadata": {},
          "execution_count": 102
        }
      ]
    },
    {
      "cell_type": "code",
      "source": [
        "'''from zipfile import ZipFile\n",
        "\n",
        "with ZipFile('upper_package.zip', 'r') as zipObj:\n",
        "   # Extract all the contents of zip file in current directory\n",
        "   zipObj.extractall()'''"
      ],
      "metadata": {
        "colab": {
          "base_uri": "https://localhost:8080/"
        },
        "id": "csN4GrlzP8Xf",
        "outputId": "58210ef4-c77f-4451-c7cb-90ab7551d7ea"
      },
      "execution_count": 105,
      "outputs": [
        {
          "output_type": "stream",
          "name": "stdout",
          "text": [
            "3\n"
          ]
        }
      ]
    },
    {
      "cell_type": "code",
      "source": [
        "equallamda = lambda *x : [*x].count(max([*x], key = [*x].count))\\\n",
        "if [*x].count(max([*x], key = [*x].count))>1 else 0\n",
        "equallamda(2, 6, 6, 4, 5, 6, 3)"
      ],
      "metadata": {
        "colab": {
          "base_uri": "https://localhost:8080/"
        },
        "id": "QMmYHEDNQC9H",
        "outputId": "53b365b8-9089-4aed-ce68-8f4a1d2c7422"
      },
      "execution_count": 26,
      "outputs": [
        {
          "output_type": "execute_result",
          "data": {
            "text/plain": [
              "3"
            ]
          },
          "metadata": {},
          "execution_count": 26
        }
      ]
    },
    {
      "cell_type": "code",
      "source": [
        "equallamda1 = lambda *x : list(x).count(max(list(x), key = list(x).count))\\\n",
        "if list(x).count(max(list(x), key = list(x).count)) > 1 else 0 \n",
        "equallamda1(2, 3, 4, 8, 1, 0, 4, 7, 8, 1, 8)"
      ],
      "metadata": {
        "colab": {
          "base_uri": "https://localhost:8080/"
        },
        "id": "6Xt454yAaQqj",
        "outputId": "6e71e8b3-d5c7-4cd4-dcc9-1a8897ce6f9d"
      },
      "execution_count": 28,
      "outputs": [
        {
          "output_type": "execute_result",
          "data": {
            "text/plain": [
              "3"
            ]
          },
          "metadata": {},
          "execution_count": 28
        }
      ]
    },
    {
      "cell_type": "code",
      "source": [
        "def equall(* arg) :\n",
        "    num = list(arg)\n",
        "    sonuc = num.count(max(num, key = num.count))\n",
        "    if sonuc > 1 :\n",
        "        return sonuc\n",
        "    else : \n",
        "        return 0\n",
        "equall(2, 3, 4, 8, 1, 0, 4, 7, 8, 1, 8)"
      ],
      "metadata": {
        "colab": {
          "base_uri": "https://localhost:8080/"
        },
        "id": "wdqqMGVPaziI",
        "outputId": "65906180-da62-4c5a-c561-209d235d50b5"
      },
      "execution_count": 29,
      "outputs": [
        {
          "output_type": "execute_result",
          "data": {
            "text/plain": [
              "3"
            ]
          },
          "metadata": {},
          "execution_count": 29
        }
      ]
    },
    {
      "cell_type": "code",
      "source": [
        "def funct_generator(f_name) :    # benim çözüm...\n",
        "    return lambda num : f_name(num)\n",
        "\n",
        "maxx = funct_generator(max)\n",
        "sort = funct_generator(sorted)\n",
        "\n",
        "print(maxx((1,2,3,4)))\n",
        "print(sort([1,2,82,4,5,6]))"
      ],
      "metadata": {
        "colab": {
          "base_uri": "https://localhost:8080/"
        },
        "id": "D0mpy-5Icr97",
        "outputId": "9850ab40-b393-43fa-a955-a0040f3bbd32"
      },
      "execution_count": 36,
      "outputs": [
        {
          "output_type": "stream",
          "name": "stdout",
          "text": [
            "4\n",
            "[1, 2, 4, 5, 6, 82]\n"
          ]
        }
      ]
    },
    {
      "cell_type": "code",
      "source": [
        "def function_generator(func_name):\n",
        "    return lambda *args : func_name(args) \n",
        "\n",
        "write = function_generator(print)\n",
        "write(3, 4, 5)"
      ],
      "metadata": {
        "colab": {
          "base_uri": "https://localhost:8080/"
        },
        "id": "LUpDhgiDbqdB",
        "outputId": "41364cd9-db1f-4ab2-dc8c-169cc2121654"
      },
      "execution_count": 35,
      "outputs": [
        {
          "output_type": "stream",
          "name": "stdout",
          "text": [
            "(3, 4, 5)\n"
          ]
        }
      ]
    },
    {
      "cell_type": "code",
      "source": [
        "def repeat(*args) :    # benim çözüm\n",
        "    num = list(args)\n",
        "    tekrar_sayisi = num.count(max(args, key = args.count))\n",
        "    if tekrar_sayisi == 1 : \n",
        "        return 0\n",
        "    else:\n",
        "        return tekrar_sayisi\n",
        "print(repeat(1,2,3,4,5,0,9))\n",
        "print(repeat(1, 2, 1, 3, 1, 4,))"
      ],
      "metadata": {
        "colab": {
          "base_uri": "https://localhost:8080/"
        },
        "id": "syuENOJFbMjE",
        "outputId": "caa9d7ca-c42a-40f9-8410-e0573e97b60a"
      },
      "execution_count": 31,
      "outputs": [
        {
          "output_type": "stream",
          "name": "stdout",
          "text": [
            "0\n",
            "3\n"
          ]
        }
      ]
    }
  ]
}