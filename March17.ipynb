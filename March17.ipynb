{
  "nbformat": 4,
  "nbformat_minor": 0,
  "metadata": {
    "colab": {
      "name": "March17.ipynb",
      "provenance": [],
      "collapsed_sections": []
    },
    "kernelspec": {
      "name": "python3",
      "display_name": "Python 3"
    },
    "language_info": {
      "name": "python"
    }
  },
  "cells": [
    {
      "cell_type": "code",
      "execution_count": null,
      "metadata": {
        "id": "-YTrBhYyEsJ9"
      },
      "outputs": [],
      "source": [
        "c = -30\n",
        "x = lambda a : a**2 if a<0  + 10 else a**(1/2)\n",
        "x(5)"
      ]
    },
    {
      "cell_type": "code",
      "source": [
        "name = 'John Thomas'\n",
        "l = list(name)\n",
        "(lambda name:name[::-1])(l)\n"
      ],
      "metadata": {
        "id": "azqewaw4HbQI"
      },
      "execution_count": null,
      "outputs": []
    },
    {
      "cell_type": "code",
      "source": [
        "numbers = [3, 4, 5, 6]\n",
        "for i in numbers:\n",
        "  print(i, ':', (lambda x: 'odd' if x%2 else 'éven')(i))"
      ],
      "metadata": {
        "id": "PYVY4kj7JHKz"
      },
      "execution_count": null,
      "outputs": []
    },
    {
      "cell_type": "code",
      "source": [
        "(lambda x, y, z: x + y + z)(1, 3, 5)"
      ],
      "metadata": {
        "id": "Ddi--pX2Loh3"
      },
      "execution_count": null,
      "outputs": []
    },
    {
      "cell_type": "code",
      "source": [
        "finder = lambda x: 'odd' if x%2 else 'éven'\n",
        "finder(2)"
      ],
      "metadata": {
        "id": "pJwzCKhpQwuY"
      },
      "execution_count": null,
      "outputs": []
    },
    {
      "cell_type": "code",
      "source": [
        "words = [ 'John', 'Martin', 'Daan']\n",
        "ln = map(list, words)\n",
        "print(list(ln))"
      ],
      "metadata": {
        "id": "B5mbYc14MnBw"
      },
      "execution_count": null,
      "outputs": []
    },
    {
      "cell_type": "code",
      "source": [
        "iter = [1, 2, 3, 4, 5, 6]\n",
        "res = lambda x : x**(1/2)\n",
        "result = map(res, iter)\n",
        "print(list(result))"
      ],
      "metadata": {
        "id": "ZLepvcR9SzQM"
      },
      "execution_count": null,
      "outputs": []
    },
    {
      "cell_type": "code",
      "source": [
        "iter = [1, 2, 3, 4, 5, 6]\n",
        "def sqr(x):\n",
        "    res = x**2\n",
        "    return res\n",
        "\n",
        "result = map(sqr, iter)\n",
        "print(*result)"
      ],
      "metadata": {
        "id": "fhNu2sK8UrwK"
      },
      "execution_count": null,
      "outputs": []
    },
    {
      "cell_type": "code",
      "source": [
        "a, b, c = 'ostt', 'niew', 'exno'\n",
        "a_list, b_list, c_list = list(a), list(b), list(c)\n",
        "numbers = map(lambda x, y, z : x + y + z, a_list, b_list, c_list) \n",
        "print(list(numbers))"
      ],
      "metadata": {
        "id": "oapgaqBtWMFV"
      },
      "execution_count": null,
      "outputs": []
    },
    {
      "cell_type": "code",
      "source": [
        "a, b, c = 'ostt', 'niew', 'exno'\n",
        "numbers = map(lambda x, y, z : x + y + z, a, b, c) \n",
        "print(list(numbers))"
      ],
      "metadata": {
        "id": "OhAh0nc8Yhx7"
      },
      "execution_count": null,
      "outputs": []
    },
    {
      "cell_type": "code",
      "source": [
        "num1 = [9, 6, 7, 4]\n",
        "num2 = [3, 6, 5, 8]\n",
        "num = map(lambda a, b : (a + b) / 2, num1, num2)\n",
        "print(list(num))"
      ],
      "metadata": {
        "id": "xP8KtWXnZCKW"
      },
      "execution_count": null,
      "outputs": []
    },
    {
      "cell_type": "code",
      "source": [
        "import re\n",
        "\n",
        "#Check if the string starts with \"The\" and ends with \"Spain\":\n",
        "\n",
        "txt = \"The rain in Spain\"\n",
        "x = re.search(\"^The.*Spain$\", txt)\n",
        "\n",
        "if x:\n",
        "  print(\"YES! We have a match!\")\n",
        "else:\n",
        "  print(\"No match\")\n"
      ],
      "metadata": {
        "id": "5vM7V2rsdlDm"
      },
      "execution_count": null,
      "outputs": []
    },
    {
      "cell_type": "code",
      "source": [
        "w1 = [\"you\", \"much\", \"hard\"]\n",
        "w2 = [\"i\", \"you\", \"he\"]\n",
        "w3 = [\"love\", \"ate\", \"works\"]\n",
        "\n",
        "result = map(lambda x1, x2, x3 : x2 + \" \" + x3 + \" \" + x1,  w1,  w2,  w3)\n",
        "print(list(result))"
      ],
      "metadata": {
        "id": "FOfSR5qWfZLN"
      },
      "execution_count": null,
      "outputs": []
    },
    {
      "cell_type": "code",
      "source": [
        "numbers = [1, 2, 3, 4, 5, 6, 7, 8, 9, 10]\n",
        "def check_even(number):\n",
        "    if number % 2 == 0:\n",
        "          return True  \n",
        "    return False\n",
        "check_odd = filter(lambda x : not x%2 == 0, numbers)\n",
        "even_numbers_iterator = filter(check_even, numbers)\n",
        "even_numbers = list(even_numbers_iterator)\n",
        "print(list(check_odd),  even_numbers)"
      ],
      "metadata": {
        "id": "6AiIg0SmiJzW"
      },
      "execution_count": null,
      "outputs": []
    },
    {
      "cell_type": "code",
      "source": [
        "words = [\"apple\", \"swim\", \"clock\", \"me\", \"kiwi\", \"banana\"]\n",
        "res = filter(lambda w : len(w) < 5 , words)\n",
        "print(*res, sep = \"\\n\")"
      ],
      "metadata": {
        "colab": {
          "base_uri": "https://localhost:8080/"
        },
        "id": "UKFX9CJMlgdq",
        "outputId": "cec399d6-ffb9-4435-fb6d-a78591a87cdc"
      },
      "execution_count": null,
      "outputs": [
        {
          "output_type": "stream",
          "name": "stdout",
          "text": [
            "swim\n",
            "me\n",
            "kiwi\n"
          ]
        }
      ]
    },
    {
      "cell_type": "code",
      "source": [
        "ltr1 = [\"a\", \"b\", \"c\"]\n",
        "ltr2 = [\"x\", \"y\", \"z\"]\n",
        "concat = map(zip, ltr1, ltr2)\n",
        "concat = list(concat)\n",
        "for i in concat:\n",
        "    for j in i:\n",
        "      print(j)"
      ],
      "metadata": {
        "colab": {
          "base_uri": "https://localhost:8080/"
        },
        "id": "Kgqyl0nCn4By",
        "outputId": "66e2009e-264f-45c9-b2a5-553a25e69164"
      },
      "execution_count": null,
      "outputs": [
        {
          "output_type": "stream",
          "name": "stdout",
          "text": [
            "('a', 'x')\n",
            "('b', 'y')\n",
            "('c', 'z')\n"
          ]
        }
      ]
    },
    {
      "cell_type": "code",
      "source": [
        "fruits = {'Apples': 5, 'Oranges': 3, 'Bananas': 4}\n",
        "fruit_names = [x for x in fruits.keys()]\n",
        "fruit_names"
      ],
      "metadata": {
        "id": "jYO8tGvxnKGA",
        "colab": {
          "base_uri": "https://localhost:8080/"
        },
        "outputId": "e27ff821-346d-404e-ccaa-b042265e4f41"
      },
      "execution_count": null,
      "outputs": [
        {
          "output_type": "execute_result",
          "data": {
            "text/plain": [
              "['Apples', 'Oranges', 'Bananas']"
            ]
          },
          "metadata": {},
          "execution_count": 2
        }
      ]
    },
    {
      "cell_type": "code",
      "source": [
        "i = 5\n",
        "while True:\n",
        "  if i%0xe == 0:\n",
        "    break\n",
        "  print(i)\n",
        "  i += 1\n"
      ],
      "metadata": {
        "colab": {
          "base_uri": "https://localhost:8080/"
        },
        "id": "7RX3ZLu9vhdH",
        "outputId": "8b80e1d0-e0c3-4a54-9620-993ecbc2289c"
      },
      "execution_count": null,
      "outputs": [
        {
          "output_type": "stream",
          "name": "stdout",
          "text": [
            "5\n",
            "6\n",
            "7\n",
            "8\n",
            "9\n",
            "10\n",
            "11\n",
            "12\n",
            "13\n"
          ]
        }
      ]
    },
    {
      "cell_type": "code",
      "source": [
        "k=[2,3,4]\n",
        "list(reversed(k))"
      ],
      "metadata": {
        "colab": {
          "base_uri": "https://localhost:8080/"
        },
        "id": "uTr1wpWSIXVK",
        "outputId": "7119a530-386e-4bf6-c938-beca3bc86791"
      },
      "execution_count": null,
      "outputs": [
        {
          "output_type": "execute_result",
          "data": {
            "text/plain": [
              "[4, 3, 2]"
            ]
          },
          "metadata": {},
          "execution_count": 4
        }
      ]
    },
    {
      "cell_type": "code",
      "source": [
        "def make_sentence(**kwargs):\n",
        "    result = \"\"\n",
        "    # Iterating over the Python kwargs dictionary\n",
        "    for i in kwargs.values():\n",
        "        result += i\n",
        "    return result\n",
        "\n",
        "print(make_sentence(a=\"I \", b=\"love \", c=\"Life\"))"
      ],
      "metadata": {
        "colab": {
          "base_uri": "https://localhost:8080/"
        },
        "id": "dL7RnSZamv8_",
        "outputId": "f12a2afe-3175-4b07-faaf-4791c3144e14"
      },
      "execution_count": null,
      "outputs": [
        {
          "output_type": "stream",
          "name": "stdout",
          "text": [
            "I love Life\n"
          ]
        }
      ]
    },
    {
      "cell_type": "code",
      "source": [
        "def my_function(first, last) : \n",
        "    print('Your first name is :', first)\n",
        "    print('Your last name is :', last)\n",
        "\n",
        "my_function(first='Richard', last='Rice') "
      ],
      "metadata": {
        "colab": {
          "base_uri": "https://localhost:8080/"
        },
        "id": "2oOJ9qZ_ossa",
        "outputId": "c10f16e2-d45c-485d-a275-e71ccbe5a759"
      },
      "execution_count": null,
      "outputs": [
        {
          "output_type": "stream",
          "name": "stdout",
          "text": [
            "Your first name is : Richard\n",
            "Your last name is : Rice\n"
          ]
        }
      ]
    },
    {
      "cell_type": "code",
      "source": [
        "\n"
      ],
      "metadata": {
        "id": "Q9gUnIP6aC2c"
      },
      "execution_count": null,
      "outputs": []
    }
  ]
}