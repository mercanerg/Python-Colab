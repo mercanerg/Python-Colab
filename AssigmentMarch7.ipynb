{
  "nbformat": 4,
  "nbformat_minor": 0,
  "metadata": {
    "colab": {
      "name": "AssigmentMarch7.ipynb",
      "provenance": [],
      "collapsed_sections": []
    },
    "kernelspec": {
      "name": "python3",
      "display_name": "Python 3"
    },
    "language_info": {
      "name": "python"
    }
  },
  "cells": [
    {
      "cell_type": "code",
      "execution_count": null,
      "metadata": {
        "colab": {
          "base_uri": "https://localhost:8080/"
        },
        "id": "2KOr_4L9F2oy",
        "outputId": "a13f7352-e4eb-47ed-bbd5-8f63f4c1bb3c"
      },
      "outputs": [
        {
          "output_type": "stream",
          "name": "stdout",
          "text": [
            "time of the list (second) => 0.06763\n",
            "time of the numpy array (second) => 0.10957\n"
          ]
        }
      ],
      "source": [
        "#speed test between list and numpy array\n",
        "\n",
        "import numpy as np\n",
        "import time\n",
        "\n",
        "n = 1000000\n",
        "listed = list(range(n)) # creating a list from 0 to 1000000\n",
        "nplist = np.array(listed) # creating a numpy array from 0 to 1000000\n",
        "\n",
        "t1 = time.time() # t1 is start time of list time\n",
        "for i in listed:\n",
        "    k= i\n",
        "t2 = time.time()\n",
        "print('time of the list (second) =>', round((t2-t1), 5))\n",
        "for x in nplist:\n",
        "    k = x\n",
        "t3 = time.time()\n",
        "print('time of the numpy array (second) =>',round((t3-t2),5))"
      ]
    },
    {
      "cell_type": "code",
      "source": [
        "lista = ['John', 'Harry', False, True, 0, 35]\n",
        "filter_list = filter(None, lista)\n",
        "for k in filter_list:\n",
        "    print(k)\n",
        "\n",
        "enum =  dict(enumerate(lista, 4))\n",
        "print(enum)"
      ],
      "metadata": {
        "colab": {
          "base_uri": "https://localhost:8080/"
        },
        "id": "ujPNtGt1HV-G",
        "outputId": "3a7bdc09-e7f3-411b-8a14-1d214357e27b"
      },
      "execution_count": null,
      "outputs": [
        {
          "output_type": "stream",
          "name": "stdout",
          "text": [
            "John\n",
            "Harry\n",
            "True\n",
            "35\n",
            "{4: 'John', 5: 'Harry', 6: False, 7: True, 8: 0, 9: 35}\n"
          ]
        }
      ]
    },
    {
      "cell_type": "code",
      "source": [
        "T = (1, 2, 3, 4, 5, 6, 7, 8)\n",
        "print(T[T.index(5)], end = \" \")\n",
        "print(T[T[T[6]-3]-6])\n",
        "\n",
        "print(\"T[6] = \", T[6])\n",
        "print(\"T[T[6]-3] = \", T[T[6]-3])\n",
        "print(\"T[T[6]-3]-6 = \", T[T[6]-3]-6)\n",
        "print(\"T[-1] = \", T[-1])"
      ],
      "metadata": {
        "colab": {
          "base_uri": "https://localhost:8080/"
        },
        "id": "X2vZ6QclNRYr",
        "outputId": "d7446628-39d2-4f55-d383-5a3698c820fe"
      },
      "execution_count": null,
      "outputs": [
        {
          "output_type": "stream",
          "name": "stdout",
          "text": [
            "5 8\n",
            "T[6] =  7\n",
            "T[T[6]-3] =  5\n",
            "T[T[6]-3]-6 =  -1\n",
            "T[-1] =  8\n"
          ]
        }
      ]
    },
    {
      "cell_type": "code",
      "source": [
        "D = {1 : 1, 2 : '2', '1' : 1, '2' : 3}\n",
        "D['1'] = 2\n",
        "\n",
        "print(D[D[D[str(D[1])]]])"
      ],
      "metadata": {
        "colab": {
          "base_uri": "https://localhost:8080/"
        },
        "id": "isaob1uTPnnU",
        "outputId": "5cf60691-1e01-4718-e894-743327e148a0"
      },
      "execution_count": null,
      "outputs": [
        {
          "output_type": "stream",
          "name": "stdout",
          "text": [
            "3\n"
          ]
        }
      ]
    },
    {
      "cell_type": "code",
      "source": [
        "set1 = {1, 2, 3}\n",
        "set2 = set1.copy()\n",
        "set2.add(4)\n",
        "print(\"set1 = \", set1)"
      ],
      "metadata": {
        "colab": {
          "base_uri": "https://localhost:8080/"
        },
        "id": "UOMUviIOT8wc",
        "outputId": "061a2282-8145-48b2-e4f9-83fc9b378acd"
      },
      "execution_count": null,
      "outputs": [
        {
          "output_type": "stream",
          "name": "stdout",
          "text": [
            "set1 =  {1, 2, 3}\n"
          ]
        }
      ]
    },
    {
      "cell_type": "code",
      "source": [
        "def fibenocci(num):\n",
        "    fib =[1, 1]\n",
        "    for i in range(1, num-1):\n",
        "        fib.append(fib[i]+fib[i-1])\n",
        "    return fib\n",
        "number = int(input('enter a number > '))\n",
        "fibenocci(number)"
      ],
      "metadata": {
        "colab": {
          "base_uri": "https://localhost:8080/"
        },
        "id": "MhmcY4M02Zq9",
        "outputId": "29e8d8b2-c868-4ab6-df3f-81ddfcfb5f42"
      },
      "execution_count": null,
      "outputs": [
        {
          "name": "stdout",
          "output_type": "stream",
          "text": [
            "enter a number > 5\n"
          ]
        },
        {
          "output_type": "execute_result",
          "data": {
            "text/plain": [
              "[1, 1, 2, 3, 5]"
            ]
          },
          "metadata": {},
          "execution_count": 14
        }
      ]
    },
    {
      "cell_type": "code",
      "source": [
        "sentence = 'dsjkwe  weiorwior rereiooqwp ;ff dfuieuweuioio daeassio '\n",
        "def vowel(let):\n",
        "    vow = 'a e i o u, ü, ı,ö'.split()\n",
        "    if let.lower() in vow:\n",
        "        return True\n",
        "    else:\n",
        "        return False\n",
        "\n",
        "filtered_vowels = filter(vowel, sentence)\n",
        "print(* filtered_vowels)"
      ],
      "metadata": {
        "colab": {
          "base_uri": "https://localhost:8080/"
        },
        "id": "S0l4RP1LKULy",
        "outputId": "4fe5a489-04d4-4929-eb05-5f6c523362a2"
      },
      "execution_count": null,
      "outputs": [
        {
          "output_type": "stream",
          "name": "stdout",
          "text": [
            "e e i o i o e e i o o i e e i o i o a e a i o\n"
          ]
        }
      ]
    },
    {
      "cell_type": "code",
      "source": [
        ""
      ],
      "metadata": {
        "colab": {
          "base_uri": "https://localhost:8080/"
        },
        "id": "1HZ0CABa6pJO",
        "outputId": "88417925-6750-4dff-dfef-61523d8dfb71"
      },
      "execution_count": 12,
      "outputs": [
        {
          "output_type": "stream",
          "name": "stdout",
          "text": [
            "\u001b[1;35mRCN SOft\n",
            "\n"
          ]
        }
      ]
    }
  ]
}