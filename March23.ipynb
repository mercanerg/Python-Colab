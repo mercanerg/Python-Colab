{
  "nbformat": 4,
  "nbformat_minor": 0,
  "metadata": {
    "colab": {
      "name": "March23.ipynb",
      "provenance": [],
      "collapsed_sections": []
    },
    "kernelspec": {
      "name": "python3",
      "display_name": "Python 3"
    },
    "language_info": {
      "name": "python"
    }
  },
  "cells": [
    {
      "cell_type": "code",
      "execution_count": null,
      "metadata": {
        "id": "r2xFirYcAnC8",
        "colab": {
          "base_uri": "https://localhost:8080/"
        },
        "outputId": "3926ed1b-3433-4ab1-9ba8-abc3f55edf42"
      },
      "outputs": [
        {
          "output_type": "stream",
          "name": "stdout",
          "text": [
            "\u001b[1m\u001b[5m\u001b[7m\u001b[31mffffsd\u001b[0m\n"
          ]
        }
      ],
      "source": [
        "import sys\n",
        "from termcolor import colored, cprint\n",
        "def textstyle(text, color = 'red'):\n",
        "    '''' \n",
        "    The module of [termcolor] can manipulate console functions, such as text or \n",
        "    background color, cursor settings, fonts, and other modifiable elements \n",
        "    within the console. \n",
        "  \n",
        "    textstyle(text - string, color=default red\n",
        "\n",
        "    Text colors: grey, red, green, yellow, blue, magenta, cyan, white\n",
        "\n",
        "    Text highlights: on_grey, , on_red, on_green, on_yellow, on_blue, \n",
        "    on_magenta, on_cyan, on_white\n",
        "\n",
        "    Attributes: bold, dark, underline, blink, reverse, concealed '''\n",
        "    txt = colored(text, color, attrs=['reverse', 'blink', 'bold'])\n",
        "    print(txt)\n",
        "\n",
        "#print(textstyle.__doc__)\n",
        "textstyle('ffffsd')"
      ]
    },
    {
      "cell_type": "code",
      "source": [
        "score_valid = True\n",
        "while score_valid:\n",
        "    score_valid = False\n",
        "    try:\n",
        "      # do something\n",
        "      number = int(input(\"Enter student's score >>\"))\n",
        "      if number>100 or number<0:\n",
        "          pass\n",
        "          raise ValueError()\n",
        "      else:\n",
        "            print(\"score \", number)\n",
        "      \n",
        "    except ValueError:\n",
        "      # handle ValueError exception\n",
        "      print('Value Error - enter a number between 0 and 100')\n",
        "      score_valid = True\n",
        "      pass\n",
        "\n",
        "    except:\n",
        "      print('Unexcepted Error')\n",
        "      score_valid = True\n",
        "      # handle all other exceptions\n",
        "      "
      ],
      "metadata": {
        "colab": {
          "base_uri": "https://localhost:8080/"
        },
        "id": "sxobGVFx-HAw",
        "outputId": "5863c2be-5b52-45fd-f28e-0df690ee0b65"
      },
      "execution_count": null,
      "outputs": [
        {
          "output_type": "stream",
          "name": "stdout",
          "text": [
            "Enter student's score >>105\n",
            "Value Error - enter a number between 0 and 100\n",
            "Enter student's score >>80\n",
            "score  80\n"
          ]
        }
      ]
    },
    {
      "cell_type": "code",
      "source": [
        "command = ['right 20', 'right 30', 'left 50', 'up 10', 'down 20']\n",
        "x, y = 0, 0\n",
        "for c in command:\n",
        "    step = c.split(' ')\n",
        "    if step[0] == 'right':\n",
        "      x += int(step[1])\n",
        "    elif step[0] == 'left':\n",
        "      x -= int(step[1])\n",
        "    elif step[0] == 'up':\n",
        "      y += int(step[1])\n",
        "    elif step[0] == 'down':\n",
        "      y -= int(step[1])\n",
        "\n",
        "res = ''\n",
        "if x>0:\n",
        "    res += f'{abs(x)} step right'\n",
        "elif x<0:\n",
        "    res += f'{abs(x)} step left'\n",
        "\n",
        "if y>0:\n",
        "    res +=  f'{abs(y)} step up'\n",
        "elif y<0:\n",
        "    res += f'{abs(y)} step down'\n",
        "\n",
        "\n",
        "print(f'{x} , {y}             {res}')"
      ],
      "metadata": {
        "colab": {
          "base_uri": "https://localhost:8080/"
        },
        "id": "YOuSGM4bwt2w",
        "outputId": "c4aae074-cda4-4703-d97e-796b45756e84"
      },
      "execution_count": null,
      "outputs": [
        {
          "output_type": "stream",
          "name": "stdout",
          "text": [
            "0 , -10             10 step down\n"
          ]
        }
      ]
    },
    {
      "cell_type": "code",
      "source": [
        "brac = '[({({[{[]]})})]'\n",
        "\n",
        "br1 = ''\n",
        "def isValid(s):\n",
        "    while \"()\" in s or \"{}\" in s or \"[]\" in s:\n",
        "        s = s.replace('()', '').replace('{}', '').replace('[]', '')\n",
        "        #print(br1)\n",
        "    return s == '', s\n",
        "\n",
        "isValid(brac)\n"
      ],
      "metadata": {
        "colab": {
          "base_uri": "https://localhost:8080/"
        },
        "id": "XCQGcI-84ie9",
        "outputId": "9077efc5-5660-43f5-de47-aeaca2991be5"
      },
      "execution_count": null,
      "outputs": [
        {
          "output_type": "execute_result",
          "data": {
            "text/plain": [
              "(False, '[({({[{]})})]')"
            ]
          },
          "metadata": {},
          "execution_count": 27
        }
      ]
    },
    {
      "cell_type": "code",
      "source": [
        "n1, n2 = 10 , 20\n",
        "\n",
        "def calc(num1, num2, sign):\n",
        "    calculator = { '+': num1 + num2,\n",
        "                  '-' : num1 - num2,\n",
        "                  '/' : num1 / num2,\n",
        "                  '*' : num1 * num2,\n",
        "                }\n",
        "    return calculator[sign]\n",
        "    \n",
        "calc(n1, n2, '*')"
      ],
      "metadata": {
        "colab": {
          "base_uri": "https://localhost:8080/"
        },
        "id": "jab7W6Et-9gc",
        "outputId": "1682d449-aea2-4098-8fcc-6d7a07ffc4e2"
      },
      "execution_count": null,
      "outputs": [
        {
          "output_type": "execute_result",
          "data": {
            "text/plain": [
              "200"
            ]
          },
          "metadata": {},
          "execution_count": 34
        }
      ]
    },
    {
      "cell_type": "code",
      "source": [
        "import random\n",
        "import string\n",
        "# Generate random passwords, including letters, digits, and punctuation, with optional length\n",
        "def generate_password(ln):\n",
        "    characters = string.ascii_letters + string.digits + string.punctuation\n",
        "    password = ''.join(random.choice(characters) for i in range(ln))\n",
        "    return password\n",
        "generate_password(16)"
      ],
      "metadata": {
        "id": "wKb-aeEABOs2",
        "colab": {
          "base_uri": "https://localhost:8080/",
          "height": 35
        },
        "outputId": "5f8cc5b3-f6a2-4309-ad7b-f6f58f0d9407"
      },
      "execution_count": 107,
      "outputs": [
        {
          "output_type": "execute_result",
          "data": {
            "text/plain": [
              "\":-9mzLs}0.'bNroc\""
            ],
            "application/vnd.google.colaboratory.intrinsic+json": {
              "type": "string"
            }
          },
          "metadata": {},
          "execution_count": 107
        }
      ]
    },
    {
      "cell_type": "code",
      "source": [
        "# speed test between for loop and list comprehension \n",
        "from timeit import timeit\n",
        "def foor_loop():\n",
        "    result = []\n",
        "    for i in range (1000000):\n",
        "        result.append(i)\n",
        "    return result\n",
        "\n",
        "def list_comp():\n",
        "    return [i for i in range (1000000)]\n",
        "\n",
        "time_for = timeit(foor_loop, number = 1000)\n",
        "time_list_comp = timeit(list_comp, number = 1000)\n",
        "\n",
        "print(f'List Comp. is {round(time_for/time_list_comp, 2)} times faster than For_Loop')"
      ],
      "metadata": {
        "colab": {
          "base_uri": "https://localhost:8080/"
        },
        "id": "cs9YQO9rKFi-",
        "outputId": "bb8c76ae-a2a6-4221-aa76-4e46293132f7"
      },
      "execution_count": null,
      "outputs": [
        {
          "output_type": "stream",
          "name": "stdout",
          "text": [
            "List Comp. is 1.72 times faster than For_Loop\n"
          ]
        }
      ]
    },
    {
      "cell_type": "code",
      "source": [
        "loop = True\n",
        "while loop :\n",
        "    try:\n",
        "        no_one = int(input(\"The first number please : \"))\n",
        "        no_two = int(input(\"The second number please : \"))\n",
        "        division = no_one / no_two\n",
        "    except Exception as err: \n",
        "        print(\"Error message\", err)  \n",
        "    else :\n",
        "        print(f\"The result of the division is :  {division}\")\n",
        "        loop = False\n",
        "    finally:\n",
        "        print('RCN Soft Represent')\n",
        "    "
      ],
      "metadata": {
        "id": "PO1FCBzMoD4P",
        "colab": {
          "base_uri": "https://localhost:8080/"
        },
        "outputId": "1cf7e966-a30b-4d4f-e3ca-4178aef4915b"
      },
      "execution_count": 30,
      "outputs": [
        {
          "output_type": "stream",
          "name": "stdout",
          "text": [
            "The first number please : 9\n",
            "The second number please : 6\n",
            "The result of the division is :  1.5\n",
            "RCN Soft Represent\n"
          ]
        }
      ]
    },
    {
      "cell_type": "code",
      "source": [
        "fruit = ['banana', 'mango', 'pear', 'apple', 'kiwi', 'grape']\n",
        "count = 3\n",
        "while count>0:\n",
        "   try:\n",
        "      print(f'You have {count} rights')\n",
        "      fr_in = int(input(f'choose your favorite fruit   0...{len(fruit)-1} -- > '))\n",
        "      print('Your favorite fruit is ', fruit[fr_in])    \n",
        "   except ValueError:\n",
        "      print(f'Value error  0 - {len(fruit)-1}')\n",
        "   except IndexError:\n",
        "      print(f'Index Error 0 - {len(fruit)}-1')\n",
        "   else:\n",
        "      print(\"Congrats! You've entered a valid input\")\n",
        "      break\n",
        "   finally:\n",
        "      print(\"Fruit is very important for your health\")\n",
        "      count -=1"
      ],
      "metadata": {
        "id": "hGoS7ovWgweD"
      },
      "execution_count": null,
      "outputs": []
    },
    {
      "cell_type": "code",
      "source": [
        "string = \"\"\"In this section, we will try to understand how Python codes work, \n",
        "          in other words, we will take a look at what's happening when you \n",
        "          run the codes.\"\"\"\n",
        "word = {}\n",
        "\n",
        "for n in string:\n",
        "    if n in word :\n",
        "        word[n] += 1\n",
        "    else:\n",
        "        word[n] = 1\n",
        "print(word)"
      ],
      "metadata": {
        "id": "VXJjX1OdtEbZ"
      },
      "execution_count": null,
      "outputs": []
    },
    {
      "cell_type": "code",
      "source": [
        "data = ['a', 'b', True, (False, 1), {'1', 2}, [1, 2], {'2':'two'}, {2, '3'}, 'c', 23 , 0]\n",
        "data_type = ['int', 'str', 'tuple', 'dict', 'list', 'bool', 'set']\n",
        "word_dic = {}\n",
        "\n",
        "type_numbers = {}.fromkeys(data_type, 0)\n",
        "for i in range(0, len(data)):\n",
        "    if type(data[i]) == int : type_numbers[\"int\"] += 1\n",
        "    elif type(data[i]) == str : type_numbers[\"str\"] += 1\n",
        "    elif type(data[i]) == bool : type_numbers[\"bool\"] += 1\n",
        "    elif type(data[i]) == list : type_numbers[\"list\"] += 1\n",
        "    elif type(data[i]) == tuple : type_numbers[\"tuple\"] += 1\n",
        "    elif type(data[i]) == dict : type_numbers[\"dict\"] += 1\n",
        "    elif type(data[i]) == set : type_numbers[\"set\"] += 1\n",
        "type_numbers"
      ],
      "metadata": {
        "colab": {
          "base_uri": "https://localhost:8080/"
        },
        "id": "uQjdV0qFwNwI",
        "outputId": "99f00ebe-6872-4def-9991-7576ceb72803"
      },
      "execution_count": 97,
      "outputs": [
        {
          "output_type": "execute_result",
          "data": {
            "text/plain": [
              "{'bool': 1, 'dict': 1, 'int': 2, 'list': 1, 'set': 2, 'str': 3, 'tuple': 1}"
            ]
          },
          "metadata": {},
          "execution_count": 97
        }
      ]
    }
  ]
}