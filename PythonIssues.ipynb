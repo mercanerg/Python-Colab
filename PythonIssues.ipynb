{
  "nbformat": 4,
  "nbformat_minor": 0,
  "metadata": {
    "colab": {
      "name": "PythonIssues.ipynb",
      "provenance": []
    },
    "kernelspec": {
      "name": "python3",
      "display_name": "Python 3"
    },
    "language_info": {
      "name": "python"
    }
  },
  "cells": [
    {
      "cell_type": "code",
      "execution_count": null,
      "metadata": {
        "colab": {
          "base_uri": "https://localhost:8080/"
        },
        "id": "4VfbtEKSVcC8",
        "outputId": "fa94b6e7-5a5c-4b92-aae3-e7204b2e3703"
      },
      "outputs": [
        {
          "output_type": "stream",
          "name": "stdout",
          "text": [
            "True\n"
          ]
        },
        {
          "output_type": "execute_result",
          "data": {
            "text/plain": [
              "False"
            ]
          },
          "metadata": {},
          "execution_count": 19
        }
      ],
      "source": [
        "city = ['Paris', 'London', 'New York', 'Napoli', 'Rome', 'Atina', 'Madrid', 'Koln', 'Hamburg']\n",
        "# not empty list\n",
        "print(any(city))\n",
        "country = []\n",
        "# empty list\n",
        "any(country)"
      ]
    },
    {
      "cell_type": "code",
      "source": [
        "num = [1, 2, 3]\n",
        "num_set = set(num)\n",
        "num_set"
      ],
      "metadata": {
        "colab": {
          "base_uri": "https://localhost:8080/"
        },
        "id": "PW8mmjQbeFkn",
        "outputId": "10c50cbb-74b1-454c-ea1b-967599999b91"
      },
      "execution_count": null,
      "outputs": [
        {
          "output_type": "execute_result",
          "data": {
            "text/plain": [
              "{1, 2, 3}"
            ]
          },
          "metadata": {},
          "execution_count": 20
        }
      ]
    },
    {
      "cell_type": "code",
      "source": [
        "empty_set = set([3])\n",
        "num_set - empty_set"
      ],
      "metadata": {
        "id": "8_ouNhI8ejVm"
      },
      "execution_count": null,
      "outputs": []
    },
    {
      "cell_type": "code",
      "source": [
        "[1] + [2, 3]"
      ],
      "metadata": {
        "colab": {
          "base_uri": "https://localhost:8080/"
        },
        "id": "9pQFZMVsfd30",
        "outputId": "02588d3e-742c-4e95-ace0-c880af386343"
      },
      "execution_count": null,
      "outputs": [
        {
          "output_type": "execute_result",
          "data": {
            "text/plain": [
              "[1, 2, 3]"
            ]
          },
          "metadata": {},
          "execution_count": 9
        }
      ]
    },
    {
      "cell_type": "code",
      "source": [
        "num_set - set([1] + [2])"
      ],
      "metadata": {
        "colab": {
          "base_uri": "https://localhost:8080/"
        },
        "id": "WlCGZuyufsVd",
        "outputId": "1e0cc5bb-3cf2-4c7c-f627-35fea1792f0b"
      },
      "execution_count": null,
      "outputs": [
        {
          "output_type": "execute_result",
          "data": {
            "text/plain": [
              "{3}"
            ]
          },
          "metadata": {},
          "execution_count": 10
        }
      ]
    },
    {
      "cell_type": "code",
      "source": [
        "[[i] for i in range(3)]"
      ],
      "metadata": {
        "colab": {
          "base_uri": "https://localhost:8080/"
        },
        "id": "s4Kb6_jFggvs",
        "outputId": "655677a6-73b0-4c6a-df68-05f644c8c5db"
      },
      "execution_count": null,
      "outputs": [
        {
          "output_type": "execute_result",
          "data": {
            "text/plain": [
              "[[0], [1], [2]]"
            ]
          },
          "metadata": {},
          "execution_count": 11
        }
      ]
    },
    {
      "cell_type": "code",
      "source": [
        "[[i ** 2] for i in range(3)]"
      ],
      "metadata": {
        "colab": {
          "base_uri": "https://localhost:8080/"
        },
        "id": "Dd8aePe7grZk",
        "outputId": "264c4a72-da76-4308-ca0c-62bf15f8ceb3"
      },
      "execution_count": null,
      "outputs": [
        {
          "output_type": "execute_result",
          "data": {
            "text/plain": [
              "[[0], [1], [4]]"
            ]
          },
          "metadata": {},
          "execution_count": 12
        }
      ]
    },
    {
      "cell_type": "code",
      "source": [
        "[[i ** 2] + ['a'] for i in range(3)]"
      ],
      "metadata": {
        "colab": {
          "base_uri": "https://localhost:8080/"
        },
        "id": "rILY_guogyVv",
        "outputId": "48a11af1-c9eb-4d28-86c8-e503981727d3"
      },
      "execution_count": null,
      "outputs": [
        {
          "output_type": "execute_result",
          "data": {
            "text/plain": [
              "[[0, 'a'], [1, 'a'], [4, 'a']]"
            ]
          },
          "metadata": {},
          "execution_count": 13
        }
      ]
    },
    {
      "cell_type": "code",
      "source": [
        "[[i] + [i**2] for i in range(3)]"
      ],
      "metadata": {
        "colab": {
          "base_uri": "https://localhost:8080/"
        },
        "id": "EEFCmsgghBJR",
        "outputId": "b498f986-af43-40ca-d31a-fd21f993a3ab"
      },
      "execution_count": null,
      "outputs": [
        {
          "output_type": "execute_result",
          "data": {
            "text/plain": [
              "[[0, 0], [1, 1], [2, 4]]"
            ]
          },
          "metadata": {},
          "execution_count": 14
        }
      ]
    },
    {
      "cell_type": "code",
      "source": [
        "# solution-1 = [ [1], [2], [3] ]\n",
        "# solution-2 = [ [1, 2], [1, 3], [2, 1], [2, 3], [3, 1], [3, 2] ]\n",
        "# solution-3 = [ [1, 2, 3], [1, 3, 2], [2, 1, 3], [2, 3, 1], [3, 1, 2], [3, 2, 1] ]\n"
      ],
      "metadata": {
        "id": "mQrVda1akB0O"
      },
      "execution_count": null,
      "outputs": []
    },
    {
      "cell_type": "code",
      "source": [
        "solution = [[]]\n",
        "for index in range(len(num)):\n",
        "    solution = [ i+[j] for i in solution for j in num_set.difference(set(i))]\n",
        "    print(solution)"
      ],
      "metadata": {
        "colab": {
          "base_uri": "https://localhost:8080/"
        },
        "id": "TD00-rC1iA7y",
        "outputId": "11c3be11-5f6f-4ce6-c475-4b67e9a1ae34"
      },
      "execution_count": null,
      "outputs": [
        {
          "output_type": "stream",
          "name": "stdout",
          "text": [
            "[[1], [2], [3]]\n",
            "[[1, 2], [1, 3], [2, 1], [2, 3], [3, 1], [3, 2]]\n",
            "[[1, 2, 3], [1, 3, 2], [2, 1, 3], [2, 3, 1], [3, 1, 2], [3, 2, 1]]\n"
          ]
        }
      ]
    },
    {
      "cell_type": "code",
      "source": [
        "solution"
      ],
      "metadata": {
        "colab": {
          "base_uri": "https://localhost:8080/"
        },
        "id": "3RmvrQ6_ir5J",
        "outputId": "89c43324-56f8-4b01-a71f-5f44f122cec6"
      },
      "execution_count": null,
      "outputs": [
        {
          "output_type": "execute_result",
          "data": {
            "text/plain": [
              "[[0], [1], [2]]"
            ]
          },
          "metadata": {},
          "execution_count": 16
        }
      ]
    },
    {
      "cell_type": "code",
      "source": [
        "num = [1,2,3]\n",
        "b = [[x, y, z] for x in num for y in num for z in num if len(set([x, y, z])) == len(num)]\n",
        "print(b)"
      ],
      "metadata": {
        "colab": {
          "base_uri": "https://localhost:8080/"
        },
        "id": "wxX1ROqWnqhU",
        "outputId": "99bda43d-f674-44bf-8ff4-210779ad8481"
      },
      "execution_count": null,
      "outputs": [
        {
          "output_type": "stream",
          "name": "stdout",
          "text": [
            "[[1, 2, 3], [1, 3, 2], [2, 1, 3], [2, 3, 1], [3, 1, 2], [3, 2, 1]]\n"
          ]
        }
      ]
    },
    {
      "cell_type": "code",
      "source": [
        "import smtplib\n",
        "from email.mime.text import MIMEText\n",
        "\n",
        "sender = 'admin@example.com'\n",
        "receivers = ['info@example.com']\n",
        "\n",
        "\n",
        "port = 1025\n",
        "msg = MIMEText('This is test mail')\n",
        "\n",
        "msg['Subject'] = 'Test mail'\n",
        "msg['From'] = 'admin@example.com'\n",
        "msg['To'] = 'info@example.com'\n",
        "\n",
        "with smtplib.SMTP('localhost', port) as server:\n",
        "    \n",
        "    # server.login('username', 'password')\n",
        "    server.sendmail(sender, receivers, msg.as_string())\n",
        "    print(\"Successfully sent email\")"
      ],
      "metadata": {
        "id": "1wB0_rQMEQxe"
      },
      "execution_count": null,
      "outputs": []
    },
    {
      "cell_type": "code",
      "source": [
        "\"\"\" \n",
        "Q - What is the term to describe this code?     count, fruit, price = (2, 'apple', 3.5)\n",
        "A -  tuple unpacking\n",
        "\"\"\"\n",
        "count, fruit, price = (2, 'apple', 3.5)\n",
        "print(count, fruit, price )"
      ],
      "metadata": {
        "colab": {
          "base_uri": "https://localhost:8080/"
        },
        "id": "_OUPcS8qQ7LZ",
        "outputId": "3e15ea84-5376-47f0-eeb9-ff96f0927a34"
      },
      "execution_count": null,
      "outputs": [
        {
          "output_type": "stream",
          "name": "stdout",
          "text": [
            "2 apple 3.5\n"
          ]
        }
      ]
    },
    {
      "cell_type": "code",
      "source": [
        "\"\"\"\n",
        "What built-in list method would you use to remove items from a list?\n",
        "A - \".pop()\" method\n",
        "\"\"\"\n",
        "city = ['Paris', 'London', 'New York', 'Napoli', 'Rome', 'Athens', 'Madrid', 'Koln', 'Hamburg']\n",
        "# city = city.pop(5)   # delete all elements except 5th index\n",
        "# city.remove('Athens') # remove 'Athens' from city\n",
        "city.clear() # remove all elemnts\n",
        "print(city)"
      ],
      "metadata": {
        "colab": {
          "base_uri": "https://localhost:8080/"
        },
        "id": "VwaByF7MRsm5",
        "outputId": "07b18117-a061-4a13-eec5-e315553261f6"
      },
      "execution_count": null,
      "outputs": [
        {
          "output_type": "stream",
          "name": "stdout",
          "text": [
            "[]\n"
          ]
        }
      ]
    },
    {
      "cell_type": "code",
      "source": [
        "score = {'John':-20, 'Thomas':104, 'Maria':60, 'Diana':45, 'Laura':80}\n",
        "# result1 if condition1 else result2 if condition2 else result3\n",
        "res = {}\n",
        "for s in score : res.update({s:'incorrect score' if score[s]<0 or score[s]>100\n",
        "                             else 'pass' if score[s]>49 else 'fail'})\n",
        "res"
      ],
      "metadata": {
        "colab": {
          "base_uri": "https://localhost:8080/"
        },
        "id": "CpG293MUcj6D",
        "outputId": "c3d0788f-1434-4b51-abf2-4dd2e021c020"
      },
      "execution_count": null,
      "outputs": [
        {
          "output_type": "execute_result",
          "data": {
            "text/plain": [
              "{'Diana': 'fail',\n",
              " 'John': 'incorrect score',\n",
              " 'Laura': 'pass',\n",
              " 'Maria': 'pass',\n",
              " 'Thomas': 'incorrect score'}"
            ]
          },
          "metadata": {},
          "execution_count": 18
        }
      ]
    },
    {
      "cell_type": "code",
      "source": [
        "import string\n",
        "\n",
        "def check_password(pas):\n",
        "    res = 'password requests at least '\n",
        "    pas_list = list(pas)\n",
        "    punctuation = len(list(filter (lambda x: x in string.punctuation, pas_list)))\n",
        "    if punctuation<3 : res += '3 punctuations '\n",
        "    lower = len(list(filter (lambda x: x in string.ascii_lowercase, pas_list)))\n",
        "    if lower<3 : res += '3 lowercases '\n",
        "    upper = len(list(filter (lambda x: x in string.ascii_uppercase, pas_list)))\n",
        "    if upper<3 : res += '3 uppercases '\n",
        "    numeric = len(list(filter (lambda x: x in string.digits, pas_list)))\n",
        "    if numeric<3 : res += '3 numeric characters '\n",
        "    return res\n",
        "    \n",
        "pas = 'AdeuY>78!'\n",
        "check_password(pas)"
      ],
      "metadata": {
        "colab": {
          "base_uri": "https://localhost:8080/",
          "height": 36
        },
        "id": "LXQ5QZ-VtZLc",
        "outputId": "43f06592-0716-428e-ddd6-0ee563fe76a9"
      },
      "execution_count": null,
      "outputs": [
        {
          "output_type": "execute_result",
          "data": {
            "text/plain": [
              "'password requests at least 3 punctuations 3 uppercases 3 numeric characters '"
            ],
            "application/vnd.google.colaboratory.intrinsic+json": {
              "type": "string"
            }
          },
          "metadata": {},
          "execution_count": 15
        }
      ]
    },
    {
      "cell_type": "code",
      "source": [
        "class MyClass:\n",
        "    x = 5\n",
        "    y= 10\n"
      ],
      "metadata": {
        "id": "V1amlOwNwo7h"
      },
      "execution_count": null,
      "outputs": []
    },
    {
      "cell_type": "code",
      "source": [
        "class Person:\n",
        "  def __init__(self, name, age, salary, gender):\n",
        "    self.name = name\n",
        "    self.age = age\n",
        "    self.salary = salary\n",
        "    self.gender = gender\n",
        "  def myfunc(self):\n",
        "    print('Awesome ' + self.name)"
      ],
      "metadata": {
        "id": "fr1aiz0u3TR9"
      },
      "execution_count": null,
      "outputs": []
    },
    {
      "cell_type": "code",
      "source": [
        "p1 = Person(\"John\", 36, 4300, 'male')\n",
        "print(p1.name)\n",
        "print(p1.age)\n",
        "p1.myfunc()"
      ],
      "metadata": {
        "colab": {
          "base_uri": "https://localhost:8080/"
        },
        "id": "SrS0VvXAyPc1",
        "outputId": "7a3cadf0-6489-4b4e-e838-888b047d07ca"
      },
      "execution_count": null,
      "outputs": [
        {
          "output_type": "stream",
          "name": "stdout",
          "text": [
            "John\n",
            "36\n",
            "Awesome John\n"
          ]
        }
      ]
    },
    {
      "cell_type": "code",
      "source": [
        "class Person:\n",
        "  def __init__(object, name, age):\n",
        "    object.name = name\n",
        "    object.age = age\n",
        "\n",
        "class Student(Person):\n",
        "  pass\n",
        "\n",
        "p1 = Person(\"John\", 36)\n",
        "print(p1.name)\n",
        "\n",
        "s1 =Student('Tom', 18)\n",
        "\n",
        "print(s1.name, s1.age)"
      ],
      "metadata": {
        "colab": {
          "base_uri": "https://localhost:8080/"
        },
        "id": "5TC5dkeV3aDa",
        "outputId": "c8a23f3a-ca59-41b6-995c-cec2694bdc8a"
      },
      "execution_count": null,
      "outputs": [
        {
          "output_type": "stream",
          "name": "stdout",
          "text": [
            "John\n",
            "Tom 18\n"
          ]
        }
      ]
    }
  ]
}